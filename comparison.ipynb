{
 "cells": [
  {
   "cell_type": "code",
   "execution_count": 1,
   "metadata": {},
   "outputs": [
    {
     "ename": "RuntimeError",
     "evalue": "Error(s) in loading state_dict for ConvVAE:\n\tsize mismatch for encoder.fc_mean.weight: copying a param with shape torch.Size([16, 128]) from checkpoint, the shape in current model is torch.Size([32, 128]).\n\tsize mismatch for encoder.fc_mean.bias: copying a param with shape torch.Size([16]) from checkpoint, the shape in current model is torch.Size([32]).\n\tsize mismatch for encoder.fc_var.weight: copying a param with shape torch.Size([16, 128]) from checkpoint, the shape in current model is torch.Size([32, 128]).\n\tsize mismatch for encoder.fc_var.bias: copying a param with shape torch.Size([16]) from checkpoint, the shape in current model is torch.Size([32]).\n\tsize mismatch for decoder.fc.weight: copying a param with shape torch.Size([64, 16]) from checkpoint, the shape in current model is torch.Size([64, 32]).",
     "output_type": "error",
     "traceback": [
      "\u001b[1;31m---------------------------------------------------------------------------\u001b[0m",
      "\u001b[1;31mRuntimeError\u001b[0m                              Traceback (most recent call last)",
      "Cell \u001b[1;32mIn[1], line 30\u001b[0m\n\u001b[0;32m     28\u001b[0m \u001b[38;5;28;01mwith\u001b[39;00m TempPath(\u001b[38;5;124m'\u001b[39m\u001b[38;5;124mconv vae 1\u001b[39m\u001b[38;5;124m'\u001b[39m):\n\u001b[0;32m     29\u001b[0m     \u001b[38;5;28;01mfrom\u001b[39;00m \u001b[38;5;21;01mtrain\u001b[39;00m \u001b[38;5;28;01mimport\u001b[39;00m model \u001b[38;5;28;01mas\u001b[39;00m model_1\n\u001b[1;32m---> 30\u001b[0m     \u001b[43mmodel_1\u001b[49m\u001b[38;5;241;43m.\u001b[39;49m\u001b[43mload_state_dict\u001b[49m\u001b[43m(\u001b[49m\u001b[43mtorch\u001b[49m\u001b[38;5;241;43m.\u001b[39;49m\u001b[43mload\u001b[49m\u001b[43m(\u001b[49m\u001b[38;5;124;43m'\u001b[39;49m\u001b[38;5;124;43mconv vae 1/saved_model.pth\u001b[39;49m\u001b[38;5;124;43m'\u001b[39;49m\u001b[43m)\u001b[49m\u001b[43m)\u001b[49m\n\u001b[0;32m     31\u001b[0m     model_1\u001b[38;5;241m.\u001b[39meval()\n\u001b[0;32m     32\u001b[0m     recon_1 \u001b[38;5;241m=\u001b[39m load_output(model_1, test_loader, num_images)\n",
      "File \u001b[1;32mc:\\Users\\ebaca\\anaconda3\\envs\\Phys417\\Lib\\site-packages\\torch\\nn\\modules\\module.py:2189\u001b[0m, in \u001b[0;36mModule.load_state_dict\u001b[1;34m(self, state_dict, strict, assign)\u001b[0m\n\u001b[0;32m   2184\u001b[0m         error_msgs\u001b[38;5;241m.\u001b[39minsert(\n\u001b[0;32m   2185\u001b[0m             \u001b[38;5;241m0\u001b[39m, \u001b[38;5;124m'\u001b[39m\u001b[38;5;124mMissing key(s) in state_dict: \u001b[39m\u001b[38;5;132;01m{}\u001b[39;00m\u001b[38;5;124m. \u001b[39m\u001b[38;5;124m'\u001b[39m\u001b[38;5;241m.\u001b[39mformat(\n\u001b[0;32m   2186\u001b[0m                 \u001b[38;5;124m'\u001b[39m\u001b[38;5;124m, \u001b[39m\u001b[38;5;124m'\u001b[39m\u001b[38;5;241m.\u001b[39mjoin(\u001b[38;5;124mf\u001b[39m\u001b[38;5;124m'\u001b[39m\u001b[38;5;124m\"\u001b[39m\u001b[38;5;132;01m{\u001b[39;00mk\u001b[38;5;132;01m}\u001b[39;00m\u001b[38;5;124m\"\u001b[39m\u001b[38;5;124m'\u001b[39m \u001b[38;5;28;01mfor\u001b[39;00m k \u001b[38;5;129;01min\u001b[39;00m missing_keys)))\n\u001b[0;32m   2188\u001b[0m \u001b[38;5;28;01mif\u001b[39;00m \u001b[38;5;28mlen\u001b[39m(error_msgs) \u001b[38;5;241m>\u001b[39m \u001b[38;5;241m0\u001b[39m:\n\u001b[1;32m-> 2189\u001b[0m     \u001b[38;5;28;01mraise\u001b[39;00m \u001b[38;5;167;01mRuntimeError\u001b[39;00m(\u001b[38;5;124m'\u001b[39m\u001b[38;5;124mError(s) in loading state_dict for \u001b[39m\u001b[38;5;132;01m{}\u001b[39;00m\u001b[38;5;124m:\u001b[39m\u001b[38;5;130;01m\\n\u001b[39;00m\u001b[38;5;130;01m\\t\u001b[39;00m\u001b[38;5;132;01m{}\u001b[39;00m\u001b[38;5;124m'\u001b[39m\u001b[38;5;241m.\u001b[39mformat(\n\u001b[0;32m   2190\u001b[0m                        \u001b[38;5;28mself\u001b[39m\u001b[38;5;241m.\u001b[39m\u001b[38;5;18m__class__\u001b[39m\u001b[38;5;241m.\u001b[39m\u001b[38;5;18m__name__\u001b[39m, \u001b[38;5;124m\"\u001b[39m\u001b[38;5;130;01m\\n\u001b[39;00m\u001b[38;5;130;01m\\t\u001b[39;00m\u001b[38;5;124m\"\u001b[39m\u001b[38;5;241m.\u001b[39mjoin(error_msgs)))\n\u001b[0;32m   2191\u001b[0m \u001b[38;5;28;01mreturn\u001b[39;00m _IncompatibleKeys(missing_keys, unexpected_keys)\n",
      "\u001b[1;31mRuntimeError\u001b[0m: Error(s) in loading state_dict for ConvVAE:\n\tsize mismatch for encoder.fc_mean.weight: copying a param with shape torch.Size([16, 128]) from checkpoint, the shape in current model is torch.Size([32, 128]).\n\tsize mismatch for encoder.fc_mean.bias: copying a param with shape torch.Size([16]) from checkpoint, the shape in current model is torch.Size([32]).\n\tsize mismatch for encoder.fc_var.weight: copying a param with shape torch.Size([16, 128]) from checkpoint, the shape in current model is torch.Size([32, 128]).\n\tsize mismatch for encoder.fc_var.bias: copying a param with shape torch.Size([16]) from checkpoint, the shape in current model is torch.Size([32]).\n\tsize mismatch for decoder.fc.weight: copying a param with shape torch.Size([64, 16]) from checkpoint, the shape in current model is torch.Size([64, 32])."
     ]
    }
   ],
   "source": [
    "import torch\n",
    "from torchvision.datasets import MNIST\n",
    "from torch.utils.data import DataLoader\n",
    "import torchvision.transforms as transforms\n",
    "\n",
    "import os\n",
    "import sys\n",
    "from functions import TempPath, load_output\n",
    "\n",
    "# create a transofrm to apply to each datapoint\n",
    "transform = transforms.Compose([transforms.ToTensor()])\n",
    "\n",
    "# download the MNIST datasets\n",
    "path = '../../Local Data Files/MNIST'\n",
    "test_dataset  = MNIST(path, transform=transform, download=True);\n",
    "\n",
    "batch_size = 100\n",
    "test_loader = DataLoader(dataset=test_dataset, batch_size=batch_size, shuffle=False);\n",
    "\n",
    "num_images = 50\n",
    "\n",
    "with TempPath('conv vae og'):\n",
    "    from train import model as model_og\n",
    "    model_og.load_state_dict(torch.load('conv vae og/saved_model.pth'))\n",
    "    model_og.eval()\n",
    "    recon_og = load_output(model_og, test_loader, num_images)\n",
    "\n",
    "with TempPath('conv vae 1'):\n",
    "    from train import model as model_1\n",
    "    model_1.load_state_dict(torch.load('conv vae 1/saved_model.pth'))\n",
    "    model_1.eval()\n",
    "    recon_1 = load_output(model_1, test_loader, num_images)\n",
    "\n",
    "with TempPath('conv vae 2'):\n",
    "    from train import model as model_2\n",
    "    model_2.load_state_dict(torch.load('conv vae 2/saved_model.pth'))\n",
    "    model_2.eval()\n",
    "    recon_2 = load_output(model_2, test_loader, num_images)\n",
    "\n",
    "with TempPath('conv vae 3'):\n",
    "    from train import model as model_3\n",
    "    model_3.load_state_dict(torch.load('conv vae 3/saved_model.pth'))\n",
    "    model_3.eval()\n",
    "    recon_3 = load_output(model_3, test_loader, num_images)"
   ]
  }
 ],
 "metadata": {
  "kernelspec": {
   "display_name": "Phys417",
   "language": "python",
   "name": "python3"
  },
  "language_info": {
   "codemirror_mode": {
    "name": "ipython",
    "version": 3
   },
   "file_extension": ".py",
   "mimetype": "text/x-python",
   "name": "python",
   "nbconvert_exporter": "python",
   "pygments_lexer": "ipython3",
   "version": "3.11.9"
  }
 },
 "nbformat": 4,
 "nbformat_minor": 2
}
