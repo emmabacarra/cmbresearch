{
 "cells": [
  {
   "cell_type": "code",
   "execution_count": 1,
   "metadata": {},
   "outputs": [
    {
     "data": {
      "text/plain": [
       "'c:\\\\Users\\\\ebaca\\\\Desktop\\\\University of Washington\\\\cmdresearch'"
      ]
     },
     "execution_count": 1,
     "metadata": {},
     "output_type": "execute_result"
    }
   ],
   "source": [
    "import os\n",
    "# from re import search\n",
    "os.getcwd()"
   ]
  },
  {
   "cell_type": "code",
   "execution_count": 2,
   "metadata": {},
   "outputs": [],
   "source": [
    "import astropy\n",
    "# print(astropy.cosmology.realizations.available)\n",
    "\n",
    "from astropy.cosmology import WMAP9 as wmap\n",
    "from astropy.cosmology import Planck18 as planck\n",
    "import pandas as pd\n",
    "\n",
    "import matplotlib.cm as cm\n",
    "import matplotlib.mlab as mlab\n",
    "import matplotlib.pyplot as plt\n",
    "%matplotlib inline\n",
    "\n",
    "import numpy as np\n",
    "# import healpy as hp"
   ]
  },
  {
   "cell_type": "markdown",
   "metadata": {},
   "source": [
    "##### <b> ACT TT Spectra </b>\n",
    "\n",
    "The $C_l$ spectra are binned, and are given with the following columns:\n",
    "- the mean multipole moment $l$\n",
    "- the power spectrum in units of $\\mu K^2 C_l$\n",
    "- the error for the binned value in units of $\\mu K^2 C_l$ (the standard deviation of the input data points divided by the square root of their number)"
   ]
  },
  {
   "cell_type": "code",
   "execution_count": 3,
   "metadata": {},
   "outputs": [
    {
     "ename": "FileNotFoundError",
     "evalue": "[Errno 2] No such file or directory: '..\\\\Local Data Files\\\\ACT\\\\spectrum_TT.dat'",
     "output_type": "error",
     "traceback": [
      "\u001b[1;31m---------------------------------------------------------------------------\u001b[0m",
      "\u001b[1;31mFileNotFoundError\u001b[0m                         Traceback (most recent call last)",
      "Cell \u001b[1;32mIn[3], line 1\u001b[0m\n\u001b[1;32m----> 1\u001b[0m \u001b[38;5;28;01mwith\u001b[39;00m \u001b[38;5;28mopen\u001b[39m(os\u001b[38;5;241m.\u001b[39mpath\u001b[38;5;241m.\u001b[39mrelpath(\u001b[38;5;124m'\u001b[39m\u001b[38;5;124m../Local Data Files/ACT/spectrum_TT.dat\u001b[39m\u001b[38;5;124m'\u001b[39m), \u001b[38;5;124m'\u001b[39m\u001b[38;5;124mr\u001b[39m\u001b[38;5;124m'\u001b[39m) \u001b[38;5;28;01mas\u001b[39;00m file:\n\u001b[0;32m      2\u001b[0m     act_tt_data \u001b[38;5;241m=\u001b[39m pd\u001b[38;5;241m.\u001b[39mread_csv(file, sep\u001b[38;5;241m=\u001b[39m\u001b[38;5;124m'\u001b[39m\u001b[38;5;124m\\\u001b[39m\u001b[38;5;124ms+\u001b[39m\u001b[38;5;124m'\u001b[39m, header\u001b[38;5;241m=\u001b[39m\u001b[38;5;28;01mNone\u001b[39;00m)\n\u001b[0;32m      4\u001b[0m \u001b[38;5;28mtype\u001b[39m(act_tt_data), act_tt_data\u001b[38;5;241m.\u001b[39mhead()\n",
      "File \u001b[1;32mc:\\Users\\ebaca\\anaconda3\\envs\\CMDresearch\\Lib\\site-packages\\IPython\\core\\interactiveshell.py:310\u001b[0m, in \u001b[0;36m_modified_open\u001b[1;34m(file, *args, **kwargs)\u001b[0m\n\u001b[0;32m    303\u001b[0m \u001b[38;5;28;01mif\u001b[39;00m file \u001b[38;5;129;01min\u001b[39;00m {\u001b[38;5;241m0\u001b[39m, \u001b[38;5;241m1\u001b[39m, \u001b[38;5;241m2\u001b[39m}:\n\u001b[0;32m    304\u001b[0m     \u001b[38;5;28;01mraise\u001b[39;00m \u001b[38;5;167;01mValueError\u001b[39;00m(\n\u001b[0;32m    305\u001b[0m         \u001b[38;5;124mf\u001b[39m\u001b[38;5;124m\"\u001b[39m\u001b[38;5;124mIPython won\u001b[39m\u001b[38;5;124m'\u001b[39m\u001b[38;5;124mt let you open fd=\u001b[39m\u001b[38;5;132;01m{\u001b[39;00mfile\u001b[38;5;132;01m}\u001b[39;00m\u001b[38;5;124m by default \u001b[39m\u001b[38;5;124m\"\u001b[39m\n\u001b[0;32m    306\u001b[0m         \u001b[38;5;124m\"\u001b[39m\u001b[38;5;124mas it is likely to crash IPython. If you know what you are doing, \u001b[39m\u001b[38;5;124m\"\u001b[39m\n\u001b[0;32m    307\u001b[0m         \u001b[38;5;124m\"\u001b[39m\u001b[38;5;124myou can use builtins\u001b[39m\u001b[38;5;124m'\u001b[39m\u001b[38;5;124m open.\u001b[39m\u001b[38;5;124m\"\u001b[39m\n\u001b[0;32m    308\u001b[0m     )\n\u001b[1;32m--> 310\u001b[0m \u001b[38;5;28;01mreturn\u001b[39;00m io_open(file, \u001b[38;5;241m*\u001b[39margs, \u001b[38;5;241m*\u001b[39m\u001b[38;5;241m*\u001b[39mkwargs)\n",
      "\u001b[1;31mFileNotFoundError\u001b[0m: [Errno 2] No such file or directory: '..\\\\Local Data Files\\\\ACT\\\\spectrum_TT.dat'"
     ]
    }
   ],
   "source": [
    "with open(os.path.relpath('../Local Data Files/ACT/spectrum_TT.dat'), 'r') as file:\n",
    "    act_tt_data = pd.read_csv(file, sep='\\s+', header=None)\n",
    "\n",
    "type(act_tt_data), act_tt_data.head()"
   ]
  },
  {
   "cell_type": "code",
   "execution_count": null,
   "metadata": {},
   "outputs": [],
   "source": [
    "# will have to manually calculate errors and graph that (to be fixed), for now just graphing l vs power spectrum\n",
    "# Plotting ACT Data\n",
    "# ax.plot(act_tt_data[0], act_tt_data[1],\n",
    "#         label = \"ACT\",\n",
    "#         color = \"m\",\n",
    "#         marker = \"o\",\n",
    "#         linestyle = \"--\",\n",
    "#         markersize = 5);\n",
    "# ax.legend(loc = 0)"
   ]
  },
  {
   "cell_type": "markdown",
   "metadata": {},
   "source": [
    "##### <b> WMAP9 TT Spectra </b>\n",
    "\n",
    "The complete (unbinned) TT power spectrum data are provided as an ASCII table containing the following columns:\n",
    "- The multipole moment $l$\n",
    "- The power spectrum in units of $\\mu K^2$\n",
    "- The error derived from the diagonal elements of the covariance matrix in units of $\\mu K^2$\n",
    "- The portion of column 3 attributed to measurement errors in units of $\\mu K^2$\n",
    "- The portion of column 3 attributed to cosmic variance in units of $\\mu K^2$, assuming the best-fit ΛCDM model."
   ]
  },
  {
   "cell_type": "code",
   "execution_count": null,
   "metadata": {},
   "outputs": [
    {
     "data": {
      "text/plain": [
       "(pandas.core.frame.DataFrame,\n",
       "               1          2          3         4\n",
       " 0                                              \n",
       " 2      150.6398   708.3154     8.6102  708.2630\n",
       " 3      902.1805   565.3141     9.6361  565.2320\n",
       " 4      730.3626   471.9324    10.1917  471.8224\n",
       " 5     1467.8517   409.7481    10.5276  409.6128\n",
       " 6      688.5324   366.8310    10.7223  366.6742\n",
       " ...         ...        ...        ...       ...\n",
       " 1196  9375.3164  5655.1530  5654.9683   45.7047\n",
       " 1197   112.8482  5691.4318  5691.2496   45.5132\n",
       " 1198  2322.1509  5726.6724  5726.4931   45.3116\n",
       " 1199 -4873.3315  5775.1737  5774.9969   45.2093\n",
       " 1200  7194.9780  5811.3539  5811.1797   45.0078\n",
       " \n",
       " [1199 rows x 4 columns])"
      ]
     },
     "execution_count": 9,
     "metadata": {},
     "output_type": "execute_result"
    }
   ],
   "source": [
    "with open(os.path.relpath('../Local Data Files/WMAP/Spectral Data/wmap_tt_spectrum_9yr_v5.txt'), 'r') as file:\n",
    "    wmap_tt_data = pd.read_csv(file, sep='\\s+', header=None, index_col=0)\n",
    "    # wmap_tt_data = wmap_tt_data.drop(wmap_tt_data.columns[[0]], axis=1)\n",
    "\n",
    "type(wmap_tt_data), wmap_tt_data"
   ]
  },
  {
   "cell_type": "code",
   "execution_count": null,
   "metadata": {},
   "outputs": [],
   "source": [
    "# scrapwork (ignore)\n",
    "# wmap_tt_mean = wmap_tt_data[2].mean()\n",
    "# wmap_tt_std = wmap_tt_data[2].std()\n",
    "# wmap_tt_num = wmap_tt_data[2].count()\n",
    "\n",
    "# np.random.seed(0)\n",
    "# # x = wmap_tt_mean + wmap_tt_std*wmap_tt_num\n",
    "# bin_width = 3.5*wmap_tt_std / wmap_tt_num**(1./3.)\n",
    "# bins = np.arange(0, wmap_tt_num, 1) # start, stop, step\n",
    "\n",
    "# wmap_tt_num, len(wmap_tt_data[1]), bin_width, bins"
   ]
  },
  {
   "cell_type": "code",
   "execution_count": 4,
   "metadata": {},
   "outputs": [
    {
     "ename": "NameError",
     "evalue": "name 'wmap_tt_data' is not defined",
     "output_type": "error",
     "traceback": [
      "\u001b[1;31m---------------------------------------------------------------------------\u001b[0m",
      "\u001b[1;31mNameError\u001b[0m                                 Traceback (most recent call last)",
      "Cell \u001b[1;32mIn[4], line 8\u001b[0m\n\u001b[0;32m      5\u001b[0m ax\u001b[38;5;241m.\u001b[39mset_ylabel(\u001b[38;5;124mr\u001b[39m\u001b[38;5;124m\"\u001b[39m\u001b[38;5;124mPower Amplitude $C_l$\u001b[39m\u001b[38;5;124m\"\u001b[39m)\n\u001b[0;32m      6\u001b[0m ax\u001b[38;5;241m.\u001b[39mset_title(\u001b[38;5;124mr\u001b[39m\u001b[38;5;124m\"\u001b[39m\u001b[38;5;124mWMAP Power Spectrum TT in Units of $\u001b[39m\u001b[38;5;124m\\\u001b[39m\u001b[38;5;124mmu K^2$\u001b[39m\u001b[38;5;124m\"\u001b[39m)\n\u001b[1;32m----> 8\u001b[0m ax\u001b[38;5;241m.\u001b[39merrorbar(np\u001b[38;5;241m.\u001b[39marange(\u001b[38;5;28mlen\u001b[39m(wmap_tt_data[\u001b[38;5;241m1\u001b[39m])), wmap_tt_data[\u001b[38;5;241m1\u001b[39m], yerr\u001b[38;5;241m=\u001b[39mwmap_tt_data[\u001b[38;5;241m2\u001b[39m],\n\u001b[0;32m      9\u001b[0m         label \u001b[38;5;241m=\u001b[39m \u001b[38;5;124m\"\u001b[39m\u001b[38;5;124mSpectrum\u001b[39m\u001b[38;5;124m\"\u001b[39m,\n\u001b[0;32m     10\u001b[0m         color \u001b[38;5;241m=\u001b[39m \u001b[38;5;124m\"\u001b[39m\u001b[38;5;124m#ff7e3d\u001b[39m\u001b[38;5;124m\"\u001b[39m, \n\u001b[0;32m     11\u001b[0m         ecolor \u001b[38;5;241m=\u001b[39m \u001b[38;5;124m\"\u001b[39m\u001b[38;5;124m#33008c\u001b[39m\u001b[38;5;124m\"\u001b[39m, \u001b[38;5;66;03m# colors in RGBA (hex), control alpha/transparency by adding 2 more digits (%tage)\u001b[39;00m\n\u001b[0;32m     12\u001b[0m         marker \u001b[38;5;241m=\u001b[39m \u001b[38;5;124m\"\u001b[39m\u001b[38;5;124mo\u001b[39m\u001b[38;5;124m\"\u001b[39m,\n\u001b[0;32m     13\u001b[0m         markersize \u001b[38;5;241m=\u001b[39m \u001b[38;5;241m2\u001b[39m,\n\u001b[0;32m     14\u001b[0m         linestyle \u001b[38;5;241m=\u001b[39m \u001b[38;5;124m\"\u001b[39m\u001b[38;5;124mNone\u001b[39m\u001b[38;5;124m\"\u001b[39m); \u001b[38;5;66;03m# use lambda as x-axis\u001b[39;00m\n\u001b[0;32m     16\u001b[0m ax\u001b[38;5;241m.\u001b[39mlegend(loc \u001b[38;5;241m=\u001b[39m \u001b[38;5;241m0\u001b[39m)\n",
      "\u001b[1;31mNameError\u001b[0m: name 'wmap_tt_data' is not defined"
     ]
    },
    {
     "data": {
      "image/png": "[encoded data removed]",
      "text/plain": [
       "<Figure size 1300x500 with 1 Axes>"
      ]
     },
     "metadata": {},
     "output_type": "display_data"
    }
   ],
   "source": [
    "# Plotting WMAP Data\n",
    "fig, ax = plt.subplots(figsize=(13, 5))\n",
    "\n",
    "ax.set_xlabel(r\"Mean Multipole Moment $l$\")\n",
    "ax.set_ylabel(r\"Power Amplitude $C_l$\")\n",
    "ax.set_title(r\"WMAP Power Spectrum TT in Units of $\\mu K^2$\")\n",
    "\n",
    "ax.errorbar(np.arange(len(wmap_tt_data[1])), wmap_tt_data[1], yerr=wmap_tt_data[2],\n",
    "        label = \"Spectrum\",\n",
    "        color = \"#ff7e3d\", \n",
    "        ecolor = \"#33008c\", # colors in RGBA (hex), control alpha/transparency by adding 2 more digits (%tage)\n",
    "        marker = \"o\",\n",
    "        markersize = 2,\n",
    "        linestyle = \"None\"); # use lambda as x-axis\n",
    "\n",
    "ax.legend(loc = 0)"
   ]
  },
  {
   "cell_type": "markdown",
   "metadata": {},
   "source": [
    "##### <b> Planck TT Spectra </b>"
   ]
  },
  {
   "cell_type": "code",
   "execution_count": 11,
   "metadata": {},
   "outputs": [
    {
     "data": {
      "text/plain": [
       "(pandas.core.frame.DataFrame,\n",
       "          0             1              2             3             4  \\\n",
       " 0        #             L             TT            TE            EE   \n",
       " 1        2  0.101673E+04   0.261753E+01  0.308827E-01  0.181847E-05   \n",
       " 2        3  0.963727E+03   0.293806E+01  0.396903E-01  0.363743E-05   \n",
       " 3        4  0.912608E+03   0.275866E+01  0.344962E-01  0.606345E-05   \n",
       " 4        5  0.874477E+03   0.235185E+01  0.230941E-01  0.909717E-05   \n",
       " ...    ...           ...            ...           ...           ...   \n",
       " 2503  2504  0.776127E+02  -0.296537E+01  0.291004E+01  0.000000E+00   \n",
       " 2504  2505  0.773908E+02  -0.297153E+01  0.291303E+01  0.000000E+00   \n",
       " 2505  2506  0.771691E+02  -0.297827E+01  0.291609E+01  0.000000E+00   \n",
       " 2506  2507  0.769485E+02  -0.298537E+01  0.291900E+01  0.000000E+00   \n",
       " 2507  2508  0.767311E+02  -0.299293E+01  0.292189E+01  0.000000E+00   \n",
       " \n",
       "                  5    6  \n",
       " 0               BB   PP  \n",
       " 1     0.501352E-07  NaN  \n",
       " 2     0.609943E-07  NaN  \n",
       " 3     0.702592E-07  NaN  \n",
       " 4     0.782921E-07  NaN  \n",
       " ...            ...  ...  \n",
       " 2503  0.000000E+00  NaN  \n",
       " 2504  0.000000E+00  NaN  \n",
       " 2505  0.000000E+00  NaN  \n",
       " 2506  0.000000E+00  NaN  \n",
       " 2507  0.000000E+00  NaN  \n",
       " \n",
       " [2508 rows x 7 columns])"
      ]
     },
     "execution_count": 11,
     "metadata": {},
     "output_type": "execute_result"
    }
   ],
   "source": [
    "with open(os.path.relpath('../Local Data Files/Planck/COM_PowerSpect_CMB-base-plikHM-TTTEEE-lowl-lowE-lensing-minimum-theory_R3.01.txt'), 'r') as file:\n",
    "    planck_tt_data = pd.read_csv(file, sep='\\s+', header=None)\n",
    "\n",
    "type(planck_tt_data), planck_tt_data"
   ]
  },
  {
   "cell_type": "code",
   "execution_count": 81,
   "metadata": {},
   "outputs": [],
   "source": [
    "# Plotting Planck Data\n",
    "# ax.plot(planck_tt_data[1], planck_tt_data[2],\n",
    "#         label = \"Planck\",\n",
    "#         color = \"g\",\n",
    "#         marker = \"o\",\n",
    "#         linestyle = \"--\",\n",
    "#         markersize = 5);\n",
    "# ax.legend(loc = 0)"
   ]
  },
  {
   "cell_type": "code",
   "execution_count": null,
   "metadata": {},
   "outputs": [],
   "source": []
  }
 ],
 "metadata": {
  "kernelspec": {
   "display_name": "Phys417",
   "language": "python",
   "name": "python3"
  },
  "language_info": {
   "codemirror_mode": {
    "name": "ipython",
    "version": 3
   },
   "file_extension": ".py",
   "mimetype": "text/x-python",
   "name": "python",
   "nbconvert_exporter": "python",
   "pygments_lexer": "ipython3",
   "version": "3.11.8"
  }
 },
 "nbformat": 4,
 "nbformat_minor": 2
}
