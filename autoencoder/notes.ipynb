{
 "cells": [
  {
   "cell_type": "markdown",
   "metadata": {},
   "source": [
    "----\n",
    "### <b>IBM - What is an Autoencoder?</b>\n",
    "\n",
    "https://www.ibm.com/topics/autoencoder"
   ]
  },
  {
   "cell_type": "markdown",
   "metadata": {},
   "source": [
    "##### <u>Overview</u>\n",
    "\n",
    "- within the category of encoder/decoder architecture\n",
    "    - variational autoencoders (VAEs)\n",
    "    - adversarial autoencoders (AAEs)\n",
    "- useful for \n",
    "    - future data extraction (facial recognition, data compression, etc)\n",
    "    - generative tasks (image generation or generating time series data)\n",
    "- <mark>designed to identify <i><b>latent variables</b></i>, or inferred pieces of information based on common factors between data</mark>\n",
    "    - not directly observable\n",
    "    - impact the interpretations of how data is fundamentally distributed\n",
    "    - exists in a <i>latent space</i> (i.e. the collection of these variables)\n",
    "    - represents the most important pieces of information from the data\n",
    "- <mark>uses <b>unsupervised</b> machine learning</mark>\n",
    "    - the model learns which latent variables are the most important\n",
    "    - then uses that information to try and <b>reconstruct original data</b>\n",
    "    - don't rely on labeled training data or comparing with a ground truth (supervised)\n",
    "    - the model compares its outputs against the original input data\n"
   ]
  },
  {
   "cell_type": "markdown",
   "metadata": {},
   "source": [
    "##### <u>How it Works</u>\n",
    "\n",
    "Encoder $\\rarr$ Bottleneck $\\rarr$ Decoder\n",
    "\n"
   ]
  },
  {
   "cell_type": "markdown",
   "metadata": {},
   "source": [
    "----\n",
    "### <b>Nima - Machines Learn to Infer Stellar Parameters</b>\n",
    "\n",
    "https://arxiv.org/abs/2009.12872"
   ]
  },
  {
   "cell_type": "markdown",
   "metadata": {},
   "source": []
  },
  {
   "cell_type": "markdown",
   "metadata": {},
   "source": [
    "----\n",
    "### <b>Datacamp: Introduction to Autoencoders</b>\n",
    "\n",
    "https://www.datacamp.com/tutorial/introduction-to-autoencoders"
   ]
  },
  {
   "cell_type": "markdown",
   "metadata": {},
   "source": []
  }
 ],
 "metadata": {
  "language_info": {
   "name": "python"
  }
 },
 "nbformat": 4,
 "nbformat_minor": 2
}
