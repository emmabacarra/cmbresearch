{
 "cells": [
  {
   "cell_type": "markdown",
   "metadata": {},
   "source": [
    "As for the next step, I would suggest you take a look at different possible data sources. You have identified Planck and [WMAP](https://lambda.gsfc.nasa.gov/product/wmap/current/index.html). Please also take a look at NASA's LAMBDA, and see how it is related to the two sources. \n",
    "\n",
    "To give a more practical direction to this phase of your work, let's go ahead and download (a piece of) the data from each of these data sources and visualize them. You can use a Jupyter Notebook for this purpose."
   ]
  },
  {
   "cell_type": "markdown",
   "metadata": {},
   "source": [
    "--------------------------------------------------------------------\n",
    "NASA'S LAMBDA is a long-term archive of data made publicly available for CMB researchers to use, giving access to cosmology missions, software tools, and links to other relevant sites. [Atacama (ACT)](https://act.princeton.edu/) will also be explored.\n",
    "\n",
    "<b> Some reminders/vocabulary...</b>\n",
    "\n",
    "- <b>$Ω$</b>: ratio of the universe's density $ρ$ to the critical density $ρ_{c}$ \n",
    "- <b>ΛCDM</b> (lambda cold dark matter): standard model of the big bang theory\n",
    "    - three major components\n",
    "        - cosmological constant (Λ) associated with dark energy\n",
    "        - postulated cold dark matter (CDM)\n",
    "        - ordinary matter\n",
    "    - describes existence and structure of the CMD \n",
    "    - large scale structure of galaxy distribution\n",
    "    - observed abundances of hydrogen (and deuterium), helium, and lithium\n",
    "    - accelerating expansion of the universe obtained from redshift of distant objects\n",
    "- <b>$\\sigma$</b>: standard deviation/error\n",
    "- <b>E-modes</b>: polarization of light associated with matter density in the CMB\n",
    "    - perpendicular and parallel from direction of propogation\n",
    "    - no curl, just divergence\n",
    "- <b>B-modes</b>: polarization of light associated with gravitational influence in CMB\n",
    "    - 45° rotation from direction of propogation\n",
    "    - no divergence, just curl\n",
    "    - currently being researched on how it can prove theory of inflation\n",
    "- [more on light polarization and EM waves](https://science.nasa.gov/ems/02_anatomy/#:~:text=the%20image%20data.-,POLARIZATION,-One%20of%20the)\n",
    "\n",
    "<b>Definitions for CMB Radiation Research</b>\n",
    "- <b><i>$l$</i></b>: multipole moment\n",
    "- <b>Angular Power Spectra</b>\n",
    "    - $C_{l}^{XY, data} = \\frac{l}{2l+1} \\sum_{m=-l}^l a_{X, lm} a^{*}_{Y, lm}$\n",
    "    - where X, Y can be T, E, or B\n",
    "    - $a$ represents the spin-2 coefficient of a polarization mode\n",
    "- <b>TT (temperature)</b>: spectrum data derived from the following values at each <i>$l$</i>\n",
    "    - power spectrum: $\\frac{l}{2\\pi} \\left(l+1\\right) C_{l}^{TT, data}$ given in units of $\\mu K^{2}$\n",
    "    - noise: $\\frac{l}{2\\pi} \\left(l+1\\right) N_{l}$\n",
    "    - effective sky fraction $f_{sky, l}$\n",
    "    - best fit theory spectrum $C_{l}^{TT, th}$\n",
    "- <b>TE</b>: temperature-E-mode cross-power spectrum (temperature-polarization spectrum)\n",
    "- <b>EE</b>: E-mode polarization angular auto-power spectrum\n",
    "- TB, EB, and BB are expected to be zero - in general, they can be non-zero from data contamination (foreground signals)\n",
    "\n",
    "<b>Helpful Links</b>\n",
    "- WMAP: [definitions/methodology](https://iopscience.iop.org/article/10.1088/0067-0049/192/2/16#apjs374861s2), [yr9 supplement](https://lambda.gsfc.nasa.gov/product/wmap/dr5/pub_papers/nineyear/supplement/WMAP_supplement.pdf)\n",
    "- Atacama (ACT): [data products](https://lambda.gsfc.nasa.gov/product/act/actpol_prod_table.html#:~:text=The%20ACTPol%20EE%2C%20TT%20and%20TE%20power%20spectra)"
   ]
  },
  {
   "cell_type": "code",
   "execution_count": 3,
   "metadata": {},
   "outputs": [],
   "source": [
    "import astropy\n",
    "# print(astropy.cosmology.realizations.available)\n",
    "\n",
    "from astropy.cosmology import WMAP9 as wmap\n",
    "from astropy.cosmology import Planck18 as planck\n",
    "import pandas as pd"
   ]
  },
  {
   "cell_type": "markdown",
   "metadata": {},
   "source": [
    "#### ACT TT Spectrum Data\n",
    "The $C_l$ spectra are binned, and are given with the following columns:\n",
    "- the mean multipole moment $l$\n",
    "- the power spectrum in units of $\\mu K^2 C_l$\n",
    "- the error for the binned value in units of $\\mu K^2 C_l$"
   ]
  },
  {
   "cell_type": "code",
   "execution_count": 16,
   "metadata": {},
   "outputs": [
    {
     "data": {
      "text/plain": [
       "(pandas.core.frame.DataFrame,\n",
       "        0         1         2\n",
       " 0  350.5  0.125065  0.015274\n",
       " 1  400.5  0.061844  0.008171\n",
       " 2  450.5  0.061938  0.005804\n",
       " 3  500.5  0.055553  0.005217\n",
       " 4  550.5  0.051276  0.004034)"
      ]
     },
     "execution_count": 16,
     "metadata": {},
     "output_type": "execute_result"
    }
   ],
   "source": [
    "with open('act_data\\spectrum_TT.dat', 'r') as file:\n",
    "    act_tt_data = pd.read_csv(file, sep='\\s+', header=None)\n",
    "\n",
    "\n",
    "type(act_tt_data), act_tt_data.head()"
   ]
  },
  {
   "cell_type": "code",
   "execution_count": null,
   "metadata": {},
   "outputs": [],
   "source": []
  }
 ],
 "metadata": {
  "kernelspec": {
   "display_name": "Phys417",
   "language": "python",
   "name": "python3"
  },
  "language_info": {
   "codemirror_mode": {
    "name": "ipython",
    "version": 3
   },
   "file_extension": ".py",
   "mimetype": "text/x-python",
   "name": "python",
   "nbconvert_exporter": "python",
   "pygments_lexer": "ipython3",
   "version": "3.11.8"
  }
 },
 "nbformat": 4,
 "nbformat_minor": 2
}
